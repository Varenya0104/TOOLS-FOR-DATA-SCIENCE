{
 "cells": [
  {
   "cell_type": "markdown",
   "id": "d54d1552",
   "metadata": {},
   "source": [
    "# Data Science Tools and Ecosystem\n"
   ]
  },
  {
   "cell_type": "markdown",
   "id": "b339a93d",
   "metadata": {},
   "source": [
    "### In this notebook, Data Science Tools and Ecosystem are summarized."
   ]
  },
  {
   "cell_type": "markdown",
   "id": "4ac97ce8",
   "metadata": {},
   "source": [
    "Some of the popular languages that Data Scientists use are\n",
    "1 Python\n",
    "2 R\n",
    "3 SQL\n",
    "4 C++\n",
    "5 Java"
   ]
  },
  {
   "cell_type": "markdown",
   "id": "69303270",
   "metadata": {},
   "source": [
    "Some of the commonly used libraries used by Data Scientists include:\n",
    "1 NumPy\n",
    "2 Pandas\n",
    "3 Matplotlib\n",
    "4 Seaborn\n",
    "5 Scikit-learn"
   ]
  },
  {
   "cell_type": "markdown",
   "id": "dabfb12a",
   "metadata": {},
   "source": [
    "| Tool             | Description                                                                                     |\n",
    "|------------------|-------------------------------------------------------------------------------------------------|\n",
    "| NumPy            | Fundamental package for scientific computing with support for arrays and mathematical functions |\n",
    "| Pandas           | Data manipulation and analysis library offering data structures like DataFrame                 |\n",
    "| Matplotlib       | Comprehensive library for creating static, interactive, and animated visualizations            |\n",
    "| Seaborn          | Data visualization library providing a high-level interface for drawing statistical graphics   |\n",
    "| Scikit-learn     | Machine learning library offering tools for data mining and analysis                           |\n",
    "| TensorFlow       | Deep learning framework for building and training neural networks                              |\n",
    "| PyTorch          | Deep learning framework for building and training neural networks                              |\n",
    "| SciPy            | Collection of mathematical algorithms and functions                                            |\n",
    "| Statsmodels      | Library for statistical modeling and hypothesis testing                                          |\n",
    "| NLTK             | Suite of libraries and programs for natural language processing tasks                            |\n",
    "| Beautiful Soup   | Library for web scraping, allowing easy extraction of data from HTML and XML files              |\n"
   ]
  },
  {
   "cell_type": "markdown",
   "id": "5e20cf2d",
   "metadata": {},
   "source": [
    "## Below are a few examples of evaluating arithmetic expressions in Python"
   ]
  },
  {
   "cell_type": "code",
   "execution_count": 4,
   "id": "52fc6d22",
   "metadata": {},
   "outputs": [
    {
     "data": {
      "text/plain": [
       "17"
      ]
     },
     "execution_count": 4,
     "metadata": {},
     "output_type": "execute_result"
    }
   ],
   "source": [
    "(3*4)+5"
   ]
  },
  {
   "cell_type": "code",
   "execution_count": 7,
   "id": "9e70a8a2",
   "metadata": {},
   "outputs": [
    {
     "name": "stdout",
     "output_type": "stream",
     "text": [
      "200 minutes is equal to 3.3333333333333335 hours.\n"
     ]
    }
   ],
   "source": [
    "#This will convert 200 minutes to hours by diving by 60\n",
    "def convert_minutes_to_hours(minutes):\n",
    "    hours = minutes / 60\n",
    "    return hours\n",
    "\n",
    "# Example usage:\n",
    "minutes = 200\n",
    "hours = convert_minutes_to_hours(minutes)\n",
    "print(f\"{minutes} minutes is equal to {hours} hours.\")\n"
   ]
  },
  {
   "cell_type": "markdown",
   "id": "089862c4",
   "metadata": {},
   "source": [
    "## Objectives\n",
    "\n",
    "Here are the objectives of this task:\n",
    "\n",
    "1. Understand how to convert minutes to hours using Python.\n",
    "2. Learn to define functions to perform specific tasks in Python.\n",
    "3. Practice calling functions with input values and handling the returned results.\n",
    "4. Gain familiarity with basic arithmetic operations in Python.\n",
    "5. Enhance knowledge of working with Jupyter Notebooks and Markdown cells.\n"
   ]
  },
  {
   "cell_type": "markdown",
   "id": "e4990c86",
   "metadata": {},
   "source": [
    "Varenya Pinnaka"
   ]
  }
 ],
 "metadata": {
  "kernelspec": {
   "display_name": "Python 3",
   "language": "python",
   "name": "python3"
  },
  "language_info": {
   "codemirror_mode": {
    "name": "ipython",
    "version": 3
   },
   "file_extension": ".py",
   "mimetype": "text/x-python",
   "name": "python",
   "nbconvert_exporter": "python",
   "pygments_lexer": "ipython3",
   "version": "3.8.8"
  }
 },
 "nbformat": 4,
 "nbformat_minor": 5
}
